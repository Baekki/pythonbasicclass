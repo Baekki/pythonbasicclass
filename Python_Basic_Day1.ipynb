{
  "nbformat": 4,
  "nbformat_minor": 0,
  "metadata": {
    "colab": {
      "name": "Python Basic Day1.ipynb",
      "provenance": [],
      "authorship_tag": "ABX9TyNereBJLLSXUXr8xz/xLFf0",
      "include_colab_link": true
    },
    "kernelspec": {
      "name": "python3",
      "display_name": "Python 3"
    },
    "language_info": {
      "name": "python"
    }
  },
  "cells": [
    {
      "cell_type": "markdown",
      "metadata": {
        "id": "view-in-github",
        "colab_type": "text"
      },
      "source": [
        "<a href=\"https://colab.research.google.com/github/Baekki/pythonbasicclass/blob/main/Python_Basic_Day1.ipynb\" target=\"_parent\"><img src=\"https://colab.research.google.com/assets/colab-badge.svg\" alt=\"Open In Colab\"/></a>"
      ]
    },
    {
      "cell_type": "code",
      "execution_count": 3,
      "metadata": {
        "id": "9SK7CqVC1BLb"
      },
      "outputs": [],
      "source": [
        "# 문단 시작 왼쪽에 [숫자]는 실행한 순서를 나타냄.\n",
        "\n",
        "# 파이썬이란!\n",
        "# 1991 네덜란드 '귀도 반 로섬'에 의해 개발된 언어\n",
        "# 본래 '비단뱀' 이라는 뜻을 가지고 있어 로고, 그림 등 대부분을 뱀으로 나타낸다.\n",
        "# 파이썬 주석처리 = ctrl + /,    자바 주석처리 = //\n",
        "\n",
        "# 파이썬의 특징\n",
        "# 1) 파이썬은 인터프리터 언어이다. (컴퓨터 언어 = 인터프리터, 컴파일러, 하이브리드)\n",
        "# 인터프리터 언어 : Line by Line, 한 줄 한 줄 실행됨\n",
        "\n",
        "# 2) 플랫폼에 독립적\n",
        "\n",
        "# 3) 객체 지향 언어 Object oriented language\n",
        "\n",
        "# 4) 동적 타이핑 언어\n",
        "\n",
        "# 5) 개발 속도가 빠름\n",
        "\n",
        "# 개발환경(IDE) → 웹 : Colab, Local - Anaconda or VS Code\n",
        "\n",
        "\n"
      ]
    },
    {
      "cell_type": "code",
      "source": [
        "# 주석 (Comment)\n",
        "# - 코드의 설명을 잘석하는 부분\n",
        "# - 프로그램 실행에 전혀 영향을 주지 않는다.\n",
        "# # 기호를 사용하거나 '''주석''' , \"\"\"주석\"\"\" 으로 사용함. (ctrl + /)\n",
        "# ''' ''', \"\"\" \"\"\" 얘는 주석 처럼 쓸 수 있음. 주석의 기능을 갖고있는 것"
      ],
      "metadata": {
        "id": "AvRDHkZR-EyH"
      },
      "execution_count": null,
      "outputs": []
    },
    {
      "cell_type": "code",
      "source": [
        "# Docstring\n",
        "'''\n",
        "파일명 : Ex02-1.py\n",
        "개요 : 반지름을 전달하면 원의 넓이를 반환\n",
        "작성자 : 홍길동\n",
        "작성일 : 2020-08-25\n",
        "'''\n",
        "# 여러 줄을 주석처럼 처리할 수 있음. 진짜 주석은 아님, 컴퓨터가 읽음 (동작에 영향을 주진 않음. 동작가능)\n",
        "\n",
        "\n",
        "# math 모듈 포함\n",
        "import math\n",
        "\n",
        "\n",
        "def get_area(radius):\n",
        "  \"\"\"반지름을 입력받아 원의 넓이를 반환하는 get_area()함수 \"\"\"\n",
        "  area = math.pi * math.pow(radius,2)\n",
        "  return area\n",
        "\n",
        "radius = 1.5\n",
        "# get_area() 함수 호출 결과를 area변수에 저장\n",
        "area = get_area(radius)\n",
        "print(area) #area를 출력한다.\n",
        "print(get_area.__doc__)  #get_area.__doc__ : get_area의 DocString을 출력해라 (.__doc__)"
      ],
      "metadata": {
        "colab": {
          "base_uri": "https://localhost:8080/"
        },
        "id": "CteP5Y0E_LS3",
        "outputId": "a8d4fcbc-6c90-483a-a8da-9b07ca7ac898"
      },
      "execution_count": 20,
      "outputs": [
        {
          "output_type": "stream",
          "name": "stdout",
          "text": [
            "7.0685834705770345\n",
            "반지름을 입력받아 원의 넓이를 반환하는 get_area()함수 \n"
          ]
        }
      ]
    },
    {
      "cell_type": "code",
      "source": [
        "# 변수 (Variable)\n",
        "# 어떤 데이터를 저장할 때 사용되는 저장소\n",
        "\n",
        "score = 100   #Score라는 변수에 100을 넣는다.\n",
        "print(score)\n",
        "\n",
        "# 변수 이름 생성 규칙\n",
        "# 1. 영문, 한글, 숫자, 밑줄로 구성됨.(한글은 변수명으로 사용하지 말자)\n",
        "# 2. 특수문자 사용 불가.\n",
        "# 3. 대문자와 소문자 구분함. (대소문자 구분 안하는 언어도 있음)\n",
        "# 4. 변수명의 첫 문자에 수자는 쓸 수 없다.\n",
        "# 5. 예약어(키워드)는 사용할 수 없다. (print, if, end 등등)\n",
        "\n",
        "학교 = 400\n",
        "a = 100\n",
        "A = 200\n",
        "a2 = 333\n",
        "# 2a = 222    는 불가함\n",
        "\n",
        "print(학교)\n",
        "print(a)\n",
        "print(A)\n",
        "print(a2)\n",
        "\n",
        "# * 권장사항\n",
        "# 1. 가급적 소문자로만 만든다.\n",
        "# 2. 한글은 가급적 사용하지 말 것.\n",
        "# 3. 가급적 의미있는 단어를 사용하자."
      ],
      "metadata": {
        "colab": {
          "base_uri": "https://localhost:8080/"
        },
        "id": "SCTfan1CB-nF",
        "outputId": "849108b4-6d5b-44f9-f3eb-31ab2aa6ed26"
      },
      "execution_count": 13,
      "outputs": [
        {
          "output_type": "stream",
          "name": "stdout",
          "text": [
            "100\n",
            "400\n",
            "100\n",
            "200\n"
          ]
        }
      ]
    },
    {
      "cell_type": "code",
      "source": [
        "int score = 100;\n",
        "string name = \"hong\"\n",
        "# 다른 언어는 int, string 등 세부적으로 '형'을 선언해줘야 함.\n",
        "# 다른언어 코드가 10줄이 파이썬은 2~3줄 정도임. "
      ],
      "metadata": {
        "id": "d3yPV_HUGY0C"
      },
      "execution_count": null,
      "outputs": []
    },
    {
      "cell_type": "code",
      "source": [
        "# 예제\n",
        "name = 'Alice'\n",
        "age = 25\n",
        "address = '''우편번호 12345\n",
        "서울시 영등포구 여의도동\n",
        "서울빌딩 501호'''\n",
        "# DocString이 좋은 이유는 줄바꿈이 적용됨!!!!!!\n",
        "\n",
        "address2 = '우편번호 12345 \\n서울시 영등포구 여의도동 \\n서울빌딩 501호'\n",
        "# \\n은 줄바꿈 표시임\n",
        "\n",
        "boyfriend = None\n",
        "height = 168.5\n",
        "\n",
        "print(name)\n",
        "print(age)\n",
        "print(address)\n",
        "print(address2)\n",
        "print(boyfriend)\n",
        "print(height)\n"
      ],
      "metadata": {
        "colab": {
          "base_uri": "https://localhost:8080/"
        },
        "id": "OC96qq9jJcIU",
        "outputId": "7234cf1d-4591-491c-8a6c-655996570931"
      },
      "execution_count": 19,
      "outputs": [
        {
          "output_type": "stream",
          "name": "stdout",
          "text": [
            "Alice\n",
            "25\n",
            "우편번호 12345\n",
            "서울시 영등포구 여의도동\n",
            "서울빌딩 501호\n",
            "우편번호 12345 \n",
            "서울시 영등포구 여의도동 \n",
            "서울빌딩 501호\n",
            "None\n",
            "168.5\n"
          ]
        }
      ]
    },
    {
      "cell_type": "code",
      "source": [
        "# 깃허브\n",
        "# 개발자의 명함, 포트폴리오에 깃허브 주소는 필수임."
      ],
      "metadata": {
        "id": "cKY2pjrEMHBb"
      },
      "execution_count": null,
      "outputs": []
    },
    {
      "cell_type": "code",
      "source": [
        ""
      ],
      "metadata": {
        "id": "LzW-4he-Kv2f"
      },
      "execution_count": null,
      "outputs": []
    }
  ]
}