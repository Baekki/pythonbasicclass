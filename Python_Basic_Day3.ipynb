{
  "nbformat": 4,
  "nbformat_minor": 0,
  "metadata": {
    "colab": {
      "name": "Python Basic Day3.ipynb",
      "provenance": [],
      "authorship_tag": "ABX9TyNAd238RFxRS4zIe0wz3b04",
      "include_colab_link": true
    },
    "kernelspec": {
      "name": "python3",
      "display_name": "Python 3"
    },
    "language_info": {
      "name": "python"
    }
  },
  "cells": [
    {
      "cell_type": "markdown",
      "metadata": {
        "id": "view-in-github",
        "colab_type": "text"
      },
      "source": [
        "<a href=\"https://colab.research.google.com/github/Baekki/pythonbasicclass/blob/main/Python_Basic_Day3.ipynb\" target=\"_parent\"><img src=\"https://colab.research.google.com/assets/colab-badge.svg\" alt=\"Open In Colab\"/></a>"
      ]
    },
    {
      "cell_type": "code",
      "execution_count": null,
      "metadata": {
        "id": "OVOtSPRDSOP9"
      },
      "outputs": [],
      "source": [
        "# list tuple dict set\n",
        "\n",
        "# list 특징 : [], indexing/slicing 가능, mutable(del, ins : 삭제 삽입 수정 등 가능)  하나 만들 때 [1]\n",
        "# tuple 특징 : () indexing/slicing 가능, immutable   원소를 하나 만들 때 쉼표 필수 (1,)\n",
        "# dict 특징 : {}  indexing/slicing 불가능 (unordered), mutable(del, ins : 삭제 삽입 수정 등 가능) {'key':'value'}\n",
        "# set 특징 :  {}  indexing/slicing 불가능 (unordered), mutable(del, ins : 삭제 삽입 수정 등 가능) {1,2,3}"
      ]
    },
    {
      "cell_type": "code",
      "source": [
        "# 예제 49page\n",
        "# 1. 5자리로 구성된 학번 '31025'를 학년, 반, 번호로 나누어 출력하는 프로그램을 구현하세요\n",
        "no = '31025'\n",
        "a = no[0]   # indexing\n",
        "b = no[1:3]   # slicing\n",
        "c = no[3:]    # slicing,      [시작:끝] 생략하면 시작, 끝임\n",
        "\n",
        "print(a,'학년',b,'반',c,'번')\n",
        "\n",
        "print(f'{a} 학년 {b} 반 {c} 번')     # ★ 고급임 → f 스트링"
      ],
      "metadata": {
        "colab": {
          "base_uri": "https://localhost:8080/"
        },
        "id": "-ur2g10_VVSI",
        "outputId": "88434777-fc2d-4a62-fb23-819e615099b8"
      },
      "execution_count": 8,
      "outputs": [
        {
          "output_type": "stream",
          "name": "stdout",
          "text": [
            "3 학년 10 반 25 번\n",
            "3 학년 10 반 25 번\n"
          ]
        }
      ]
    },
    {
      "cell_type": "code",
      "source": [
        "# 2. 차량 번호에서 뒤에 숫자 4자리만 출력하는 프로그램을 구현하세요. 전체 차량번호는 '서울2가 1234', '10가1234', '288가1234'와 같이 다르지만, 모두 차량번호 4자리는 '1234'"
      ],
      "metadata": {
        "id": "eKJP2SiRY0z9"
      },
      "execution_count": null,
      "outputs": []
    },
    {
      "cell_type": "code",
      "source": [
        "no = '서울2가1234'\n",
        "no4 = no[-4:]\n",
        "print(no,'의 차량번호 4자리는',no4,'입니다')"
      ],
      "metadata": {
        "colab": {
          "base_uri": "https://localhost:8080/"
        },
        "id": "-WhDlRSxY9mo",
        "outputId": "f59abb34-eb92-47cc-df1d-c528c52869d5"
      },
      "execution_count": 13,
      "outputs": [
        {
          "output_type": "stream",
          "name": "stdout",
          "text": [
            "서울2가1234 의 차량번호 4자리는 1234 입니다\n"
          ]
        }
      ]
    },
    {
      "cell_type": "code",
      "source": [
        "print(f'{no} 의 차량번호 4자리는 {no4} 입니다')"
      ],
      "metadata": {
        "colab": {
          "base_uri": "https://localhost:8080/"
        },
        "id": "65eWmlcFZ6ck",
        "outputId": "78c5a499-06c5-4a0c-e102-23bc297c0519"
      },
      "execution_count": 14,
      "outputs": [
        {
          "output_type": "stream",
          "name": "stdout",
          "text": [
            "서울2가1234 의 차량번호 4자리는 1234 입니다\n"
          ]
        }
      ]
    },
    {
      "cell_type": "code",
      "source": [
        "# 3. 문자열 s 에 maple 이 저장되어 있음. 문자열 s 의 가운데 글자를 출력하는 프로그램 구현\n",
        "s = 'maple'\n",
        "center = s[len(s)//2]    # len()는 글자의 문자열의 갯수를 세주는 함수 ★ // 나누기를 두개 쓰면 나누고 몫만 출력함. 나머지 버림,   / 하나만 쓰면 소숫점자리까지 나옴,    % 를쓰면 몫을 버리고 나머지만 출력 (홀,짝,배수)\n",
        "\n",
        "print(s,'의 가운데 글자는',center, '입니다')\n",
        "print(f'{s} 의 가운데 글자는 {center} 입니다.')"
      ],
      "metadata": {
        "colab": {
          "base_uri": "https://localhost:8080/"
        },
        "id": "mSGtEeVpadMz",
        "outputId": "13041938-26db-4234-b43a-a0fcf9c54705"
      },
      "execution_count": 22,
      "outputs": [
        {
          "output_type": "stream",
          "name": "stdout",
          "text": [
            "maple 의 가운데 글자는 p 입니다\n",
            "maple 의 가운데 글자는 p 입니다.\n"
          ]
        }
      ]
    },
    {
      "cell_type": "code",
      "source": [
        ""
      ],
      "metadata": {
        "id": "_vv9tJm2dKCb"
      },
      "execution_count": null,
      "outputs": []
    }
  ]
}