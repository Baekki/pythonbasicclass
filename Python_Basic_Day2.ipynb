{
  "nbformat": 4,
  "nbformat_minor": 0,
  "metadata": {
    "colab": {
      "name": "Python Basic Day2.ipynb",
      "provenance": [],
      "collapsed_sections": [],
      "authorship_tag": "ABX9TyPV8A7vNSs7QOsXq1ahiyvs",
      "include_colab_link": true
    },
    "kernelspec": {
      "name": "python3",
      "display_name": "Python 3"
    },
    "language_info": {
      "name": "python"
    }
  },
  "cells": [
    {
      "cell_type": "markdown",
      "metadata": {
        "id": "view-in-github",
        "colab_type": "text"
      },
      "source": [
        "<a href=\"https://colab.research.google.com/github/Baekki/pythonbasicclass/blob/main/Python_Basic_Day2.ipynb\" target=\"_parent\"><img src=\"https://colab.research.google.com/assets/colab-badge.svg\" alt=\"Open In Colab\"/></a>"
      ]
    },
    {
      "cell_type": "code",
      "execution_count": null,
      "metadata": {
        "id": "y5XR9aPm-5op"
      },
      "outputs": [],
      "source": [
        "# 3. 기본 자료형(page 33)\n",
        "\n",
        "int 정수 (1, 2, 3, 4, 5....)\n",
        "float 실수 (3.14, 2.18)\n",
        "bool 논리 (True, Flase)\n",
        "str 문자열 ('홍길동','글자')\n"
      ]
    },
    {
      "cell_type": "code",
      "source": [
        "# 1) 정수 int\n",
        "int(1.9)"
      ],
      "metadata": {
        "colab": {
          "base_uri": "https://localhost:8080/"
        },
        "id": "z7fNoaZoApea",
        "outputId": "f4f99f2e-9f8f-4221-f9f2-afc9ab241f1f"
      },
      "execution_count": 1,
      "outputs": [
        {
          "output_type": "execute_result",
          "data": {
            "text/plain": [
              "1"
            ]
          },
          "metadata": {},
          "execution_count": 1
        }
      ]
    },
    {
      "cell_type": "code",
      "source": [
        "int(True)"
      ],
      "metadata": {
        "colab": {
          "base_uri": "https://localhost:8080/"
        },
        "id": "JOqSwb4pBCYe",
        "outputId": "9369eff5-3689-4122-a7b1-c34f2acc2348"
      },
      "execution_count": 5,
      "outputs": [
        {
          "output_type": "execute_result",
          "data": {
            "text/plain": [
              "1"
            ]
          },
          "metadata": {},
          "execution_count": 5
        }
      ]
    },
    {
      "cell_type": "code",
      "source": [
        "int(False)"
      ],
      "metadata": {
        "colab": {
          "base_uri": "https://localhost:8080/"
        },
        "id": "Dl7EE8VdCRvh",
        "outputId": "93202a35-0e25-449f-a133-abcdea37e46b"
      },
      "execution_count": 6,
      "outputs": [
        {
          "output_type": "execute_result",
          "data": {
            "text/plain": [
              "0"
            ]
          },
          "metadata": {},
          "execution_count": 6
        }
      ]
    },
    {
      "cell_type": "code",
      "source": [
        "int('100')   # (큰/작은)따옴표가 있으면 문자임. int안에 문자 넣으면 숫자로 바뀜\n",
        "# int() 괄호 안에 숫자처럼 보이는 문자를 넣어주면 숫자로 변환됨."
      ],
      "metadata": {
        "colab": {
          "base_uri": "https://localhost:8080/"
        },
        "id": "MvBiX_uUDeLM",
        "outputId": "82e94f83-2600-454b-b068-8a9f9fd92a8b"
      },
      "execution_count": 7,
      "outputs": [
        {
          "output_type": "execute_result",
          "data": {
            "text/plain": [
              "100"
            ]
          },
          "metadata": {},
          "execution_count": 7
        }
      ]
    },
    {
      "cell_type": "code",
      "source": [
        "# 2) 실수 float\n",
        "float(1)   # 1.0으로 답 나옴. 실수 *형*으로 바꿔줌."
      ],
      "metadata": {
        "colab": {
          "base_uri": "https://localhost:8080/"
        },
        "id": "E5Upwy4KD2z8",
        "outputId": "f4f292f9-75a7-4039-ea18-4d469913ff8d"
      },
      "execution_count": 8,
      "outputs": [
        {
          "output_type": "execute_result",
          "data": {
            "text/plain": [
              "1.0"
            ]
          },
          "metadata": {},
          "execution_count": 8
        }
      ]
    },
    {
      "cell_type": "code",
      "source": [
        "float(True)"
      ],
      "metadata": {
        "colab": {
          "base_uri": "https://localhost:8080/"
        },
        "id": "dPG-BShjEnYD",
        "outputId": "3eff4fc1-f1fc-4de2-e10b-06a935e784b9"
      },
      "execution_count": 10,
      "outputs": [
        {
          "output_type": "execute_result",
          "data": {
            "text/plain": [
              "1.0"
            ]
          },
          "metadata": {},
          "execution_count": 10
        }
      ]
    },
    {
      "cell_type": "code",
      "source": [
        "float(False)"
      ],
      "metadata": {
        "colab": {
          "base_uri": "https://localhost:8080/"
        },
        "id": "x5ookJdzErzM",
        "outputId": "b9c399bc-f712-4bf6-8275-29c96d82f552"
      },
      "execution_count": 11,
      "outputs": [
        {
          "output_type": "execute_result",
          "data": {
            "text/plain": [
              "0.0"
            ]
          },
          "metadata": {},
          "execution_count": 11
        }
      ]
    },
    {
      "cell_type": "code",
      "source": [
        "float('3.14')"
      ],
      "metadata": {
        "colab": {
          "base_uri": "https://localhost:8080/"
        },
        "id": "hvIVULSDEzYW",
        "outputId": "f319aef3-2fbc-4a2a-e353-35e88d532df5"
      },
      "execution_count": 12,
      "outputs": [
        {
          "output_type": "execute_result",
          "data": {
            "text/plain": [
              "3.14"
            ]
          },
          "metadata": {},
          "execution_count": 12
        }
      ]
    },
    {
      "cell_type": "code",
      "source": [
        "input('숫자를 입력하세요')   # ★★★★input은 모든 입력을 문자로만 받는다.★★★★ "
      ],
      "metadata": {
        "colab": {
          "base_uri": "https://localhost:8080/",
          "height": 55
        },
        "id": "tkb9GYSOFMw9",
        "outputId": "e0ec229f-402c-4c80-aed6-6a600101d7ec"
      },
      "execution_count": 13,
      "outputs": [
        {
          "name": "stdout",
          "output_type": "stream",
          "text": [
            "숫자를 입력하세요123\n"
          ]
        },
        {
          "output_type": "execute_result",
          "data": {
            "application/vnd.google.colaboratory.intrinsic+json": {
              "type": "string"
            },
            "text/plain": [
              "'123'"
            ]
          },
          "metadata": {},
          "execution_count": 13
        }
      ]
    },
    {
      "cell_type": "code",
      "source": [
        "int(input('숫자를 입력하세요'))   # input에서 받은 값을 int 숫자형으로 바꿈"
      ],
      "metadata": {
        "colab": {
          "base_uri": "https://localhost:8080/"
        },
        "id": "fOJWvF8GFYGQ",
        "outputId": "d189f3d4-34f5-4461-bcfd-1941b11d8b35"
      },
      "execution_count": 14,
      "outputs": [
        {
          "name": "stdout",
          "output_type": "stream",
          "text": [
            "숫자를 입력하세요123\n"
          ]
        },
        {
          "output_type": "execute_result",
          "data": {
            "text/plain": [
              "123"
            ]
          },
          "metadata": {},
          "execution_count": 14
        }
      ]
    },
    {
      "cell_type": "code",
      "source": [
        "# 3) 논리 bool, boolean : True, False 로만 나타냄\n",
        "\n",
        "bool(0)"
      ],
      "metadata": {
        "colab": {
          "base_uri": "https://localhost:8080/"
        },
        "id": "CjX_RnCHF3xS",
        "outputId": "533fcdf4-fe48-495e-d026-f9e0da7ddef7"
      },
      "execution_count": 15,
      "outputs": [
        {
          "output_type": "execute_result",
          "data": {
            "text/plain": [
              "False"
            ]
          },
          "metadata": {},
          "execution_count": 15
        }
      ]
    },
    {
      "cell_type": "code",
      "source": [
        "bool(1)"
      ],
      "metadata": {
        "colab": {
          "base_uri": "https://localhost:8080/"
        },
        "id": "9IrKZdIUGKM3",
        "outputId": "ca98fbcd-79fb-4c7a-c48a-c4e4c2facf34"
      },
      "execution_count": 16,
      "outputs": [
        {
          "output_type": "execute_result",
          "data": {
            "text/plain": [
              "True"
            ]
          },
          "metadata": {},
          "execution_count": 16
        }
      ]
    },
    {
      "cell_type": "code",
      "source": [
        "bool('')    # 안에 내용물이 없을 경우 Flase"
      ],
      "metadata": {
        "colab": {
          "base_uri": "https://localhost:8080/"
        },
        "id": "YchowM-VGN9n",
        "outputId": "a01327a1-3a57-436e-a3d8-33b2c1808029"
      },
      "execution_count": 20,
      "outputs": [
        {
          "output_type": "execute_result",
          "data": {
            "text/plain": [
              "False"
            ]
          },
          "metadata": {},
          "execution_count": 20
        }
      ]
    },
    {
      "cell_type": "code",
      "source": [
        "bool('abc')     # 안에 내용이 있으면 True"
      ],
      "metadata": {
        "colab": {
          "base_uri": "https://localhost:8080/"
        },
        "id": "AE3CcUA1GSOz",
        "outputId": "3269c082-12e0-412c-ac37-7cca10f5f37f"
      },
      "execution_count": 18,
      "outputs": [
        {
          "output_type": "execute_result",
          "data": {
            "text/plain": [
              "True"
            ]
          },
          "metadata": {},
          "execution_count": 18
        }
      ]
    },
    {
      "cell_type": "code",
      "source": [
        "bool([])     # [] 이건 리스트 라고 함.리스트 안에도 내용이 없으니 Flase"
      ],
      "metadata": {
        "colab": {
          "base_uri": "https://localhost:8080/"
        },
        "id": "x5MwcVhtGcDt",
        "outputId": "961f1519-fbd5-47b3-be84-18843fc56b68"
      },
      "execution_count": 21,
      "outputs": [
        {
          "output_type": "execute_result",
          "data": {
            "text/plain": [
              "False"
            ]
          },
          "metadata": {},
          "execution_count": 21
        }
      ]
    },
    {
      "cell_type": "code",
      "source": [
        "bool([21212])      # []리스트 안에 내용이 있으니 True"
      ],
      "metadata": {
        "colab": {
          "base_uri": "https://localhost:8080/"
        },
        "id": "_AV3ljrVGmSc",
        "outputId": "d9192a5c-a686-419f-8cab-0ac15887ad62"
      },
      "execution_count": 22,
      "outputs": [
        {
          "output_type": "execute_result",
          "data": {
            "text/plain": [
              "True"
            ]
          },
          "metadata": {},
          "execution_count": 22
        }
      ]
    },
    {
      "cell_type": "code",
      "source": [
        "# 4) 문자열 str, string       * 파이썬에서는 '', \"\" 같은용도로 사용됨\n",
        "a = '한국'\n",
        "b = \"한국\"\n",
        "c = '''대한\n",
        "민국'''\n",
        "# ''', \"\"\" Docstring 은 줄 바꿈도 같이 출력 됨. 가장 큰 특징\n",
        "d = '한\\n국'\n",
        "\n",
        "print(a)\n",
        "print(b)\n",
        "print(c)\n",
        "print(d)"
      ],
      "metadata": {
        "colab": {
          "base_uri": "https://localhost:8080/"
        },
        "id": "FnPAJGqiGzW1",
        "outputId": "dc160e1c-7d47-46e3-8885-b8cc321ea491"
      },
      "execution_count": 26,
      "outputs": [
        {
          "output_type": "stream",
          "name": "stdout",
          "text": [
            "한국\n",
            "한국\n",
            "대한\n",
            "민국\n",
            "한\n",
            "국\n"
          ]
        }
      ]
    },
    {
      "cell_type": "code",
      "source": [
        "str(100)     # 숫자를 넣었지만 문자 *형*으로 바뀜"
      ],
      "metadata": {
        "colab": {
          "base_uri": "https://localhost:8080/",
          "height": 36
        },
        "id": "hso8WjD2H_nZ",
        "outputId": "90430842-6f19-4238-c8df-5ce0cd3b3803"
      },
      "execution_count": 28,
      "outputs": [
        {
          "output_type": "execute_result",
          "data": {
            "application/vnd.google.colaboratory.intrinsic+json": {
              "type": "string"
            },
            "text/plain": [
              "'True'"
            ]
          },
          "metadata": {},
          "execution_count": 28
        }
      ]
    },
    {
      "cell_type": "code",
      "source": [
        "str(True)     # true 라는 글자"
      ],
      "metadata": {
        "colab": {
          "base_uri": "https://localhost:8080/",
          "height": 36
        },
        "id": "1jI7RPOJINfd",
        "outputId": "0df44616-3de2-4921-a056-c8f41d48b3ce"
      },
      "execution_count": 29,
      "outputs": [
        {
          "output_type": "execute_result",
          "data": {
            "application/vnd.google.colaboratory.intrinsic+json": {
              "type": "string"
            },
            "text/plain": [
              "'True'"
            ]
          },
          "metadata": {},
          "execution_count": 29
        }
      ]
    },
    {
      "cell_type": "code",
      "source": [
        "str(False)"
      ],
      "metadata": {
        "colab": {
          "base_uri": "https://localhost:8080/",
          "height": 36
        },
        "id": "F_zUsCqIIQMP",
        "outputId": "8890149a-6539-4c83-fe39-78c21db4a185"
      },
      "execution_count": 30,
      "outputs": [
        {
          "output_type": "execute_result",
          "data": {
            "application/vnd.google.colaboratory.intrinsic+json": {
              "type": "string"
            },
            "text/plain": [
              "'False'"
            ]
          },
          "metadata": {},
          "execution_count": 30
        }
      ]
    },
    {
      "cell_type": "code",
      "source": [
        "str(3.14)"
      ],
      "metadata": {
        "colab": {
          "base_uri": "https://localhost:8080/",
          "height": 36
        },
        "id": "cGu2CnNsIR2u",
        "outputId": "dd832454-a621-4fd7-ec9b-36b1199cde7d"
      },
      "execution_count": 32,
      "outputs": [
        {
          "output_type": "execute_result",
          "data": {
            "application/vnd.google.colaboratory.intrinsic+json": {
              "type": "string"
            },
            "text/plain": [
              "'3.14'"
            ]
          },
          "metadata": {},
          "execution_count": 32
        }
      ]
    },
    {
      "cell_type": "code",
      "source": [
        "# 문자열 인덱싱 (indexing) ★★★★★\n",
        "# 인덱싱은 문자열을 구성하는 모든 문자에 부여한 고유의 번호 / 한 글자씩 추출할 때"
      ],
      "metadata": {
        "id": "NkS1A3ddIh3T"
      },
      "execution_count": null,
      "outputs": []
    },
    {
      "cell_type": "code",
      "source": [
        "s = 'hello'\n",
        "print(s)"
      ],
      "metadata": {
        "colab": {
          "base_uri": "https://localhost:8080/"
        },
        "id": "KQvX-NxmNAL0",
        "outputId": "0e945286-942c-4cf3-df6e-1c4ab28261df"
      },
      "execution_count": 33,
      "outputs": [
        {
          "output_type": "stream",
          "name": "stdout",
          "text": [
            "hello\n"
          ]
        }
      ]
    },
    {
      "cell_type": "code",
      "source": [
        "print(s[0])       # ★★★ 인덱스의 시작은 0번째부터 시작함★★★\n",
        "# h e l l o\n",
        "# 1 2 3 4 5      ← 각 문자의 인덱스 번호"
      ],
      "metadata": {
        "colab": {
          "base_uri": "https://localhost:8080/"
        },
        "id": "u7yPVQA6NKe2",
        "outputId": "c6b1401e-c149-4e97-c684-9bfb3a70918f"
      },
      "execution_count": 34,
      "outputs": [
        {
          "output_type": "stream",
          "name": "stdout",
          "text": [
            "h\n"
          ]
        }
      ]
    },
    {
      "cell_type": "code",
      "source": [
        "# H e l l o\n",
        "#        -1\n",
        "# 뒤에서부터 거꾸로 출력도 가능. -1, -2, -3, .....\n",
        "print(s[-2])"
      ],
      "metadata": {
        "colab": {
          "base_uri": "https://localhost:8080/"
        },
        "id": "5nYE_F8sN4CH",
        "outputId": "a04f2911-3c94-4644-c779-b4baf9708f9b"
      },
      "execution_count": 37,
      "outputs": [
        {
          "output_type": "stream",
          "name": "stdout",
          "text": [
            "l\n"
          ]
        }
      ]
    },
    {
      "cell_type": "code",
      "source": [
        "# 문자열 슬라이싱 slicing\n",
        "# 문자열의 인덱스를 사용하여 한 문자 이상으로 구성된 단어나 문장을 추출\n",
        "\n",
        "s = \"banana\"\n",
        "s[0:5]      # [start:stop] stop 미만 까지만"
      ],
      "metadata": {
        "colab": {
          "base_uri": "https://localhost:8080/",
          "height": 36
        },
        "id": "v_9kUcyuOk9A",
        "outputId": "11772db9-71ec-4173-a3c8-78a6ebc33d27"
      },
      "execution_count": 39,
      "outputs": [
        {
          "output_type": "execute_result",
          "data": {
            "application/vnd.google.colaboratory.intrinsic+json": {
              "type": "string"
            },
            "text/plain": [
              "'banan'"
            ]
          },
          "metadata": {},
          "execution_count": 39
        }
      ]
    },
    {
      "cell_type": "code",
      "source": [
        "address = \"서울시 성북구 정릉동 서경로 91\"\n",
        "print(address[4:7])       #[4:6]이 아닌 이유는 7미만 까지이기 때문. 띄어쓰기도 글자수에 포함"
      ],
      "metadata": {
        "colab": {
          "base_uri": "https://localhost:8080/"
        },
        "id": "df5t_BzGPRtr",
        "outputId": "0afdb9e0-5f57-4f2a-ef6d-23e68309fe47"
      },
      "execution_count": 43,
      "outputs": [
        {
          "output_type": "stream",
          "name": "stdout",
          "text": [
            "성북구\n"
          ]
        }
      ]
    },
    {
      "cell_type": "code",
      "source": [
        ""
      ],
      "metadata": {
        "id": "I6JRMfTLQQli"
      },
      "execution_count": null,
      "outputs": []
    },
    {
      "cell_type": "code",
      "source": [
        "# 4. 컬렉션 collection\n",
        "# 여러 값을 하나의 이름으로 묶어서 관리하는 자료형\n",
        "# list, tuple, dictionary, set\n",
        "\n"
      ],
      "metadata": {
        "id": "eKpteg6bQQ72"
      },
      "execution_count": null,
      "outputs": []
    },
    {
      "cell_type": "code",
      "source": [
        "# 리스트 (List)\n",
        "# 여러 값을 저장할 때 가장 많이 사용되는 자료형\n",
        "# 특징\n",
        "# 1) 대괄호로 생성한다 []\n",
        "# 2) 여러가지 자료형을 하나의 리스트로 생성할 수 있다.\n",
        "# 3) mutable 한 속성을 갖는다. (수정, 삭제가 가능한) * mutable : 변하기 쉬운 / tuple은 immutable 속성임\n",
        "# 4) indexing, slicing 이 가능하다.   / tuple은 immutable 이지만 indxing과 slicing이 가능하다.\n",
        "\n",
        "list1 = [1,2,3,4,]\n",
        "list2 = [1,2,3,'대','한']       # 숫자와 문자, bool 등 섞어서 만들 수 있음 (특징 2번). → 하지만 에러날 확률이 매우 큼. 개발입장에서 좋지않음"
      ],
      "metadata": {
        "id": "A8or7FNVRMyu"
      },
      "execution_count": 46,
      "outputs": []
    },
    {
      "cell_type": "code",
      "source": [
        "li = [100, 3.14, 'hello']\n",
        "\n",
        "li[2]"
      ],
      "metadata": {
        "colab": {
          "base_uri": "https://localhost:8080/",
          "height": 36
        },
        "id": "qKAv9XBlUEje",
        "outputId": "174a45aa-c214-4adb-e501-2f8ca18fc63c"
      },
      "execution_count": 53,
      "outputs": [
        {
          "output_type": "execute_result",
          "data": {
            "application/vnd.google.colaboratory.intrinsic+json": {
              "type": "string"
            },
            "text/plain": [
              "'hello'"
            ]
          },
          "metadata": {},
          "execution_count": 53
        }
      ]
    },
    {
      "cell_type": "code",
      "source": [
        "li[0:3]"
      ],
      "metadata": {
        "colab": {
          "base_uri": "https://localhost:8080/"
        },
        "id": "GtNBLKYCUwcZ",
        "outputId": "9e84fe13-ade4-465a-fd0d-f956e131ea2e"
      },
      "execution_count": 54,
      "outputs": [
        {
          "output_type": "execute_result",
          "data": {
            "text/plain": [
              "[100, 3.14, 'hello']"
            ]
          },
          "metadata": {},
          "execution_count": 54
        }
      ]
    },
    {
      "cell_type": "code",
      "source": [
        "scores = [50,40,30]\n",
        "scores.append(100)          # ★★append 많이 사용함★★결과값 보면 scores에 100 이 없는데 수정되서 나옴 (특징 4번) / append : 추가  / 값을 추가할 때는 () 소괄호 사용\n",
        "scores\n",
        "# append() - 리스트에 데이터를 추가\n",
        "\n",
        "# scores2 = (50,40,30)    # ← 튜플을 만들 때는 ()소괄호를 사용한다. 따라서 (), []는 정해져있음."
      ],
      "metadata": {
        "colab": {
          "base_uri": "https://localhost:8080/"
        },
        "id": "3_e14ozmVhdZ",
        "outputId": "f6824cbb-6b3e-4257-ebea-33769677759f"
      },
      "execution_count": 56,
      "outputs": [
        {
          "output_type": "execute_result",
          "data": {
            "text/plain": [
              "[50, 40, 30, 100]"
            ]
          },
          "metadata": {},
          "execution_count": 56
        }
      ]
    },
    {
      "cell_type": "code",
      "source": [
        "# insert() - 리스트에 데이터를 추가\n",
        "scores.insert(0,90)       # insert(위치,데이터) 위치에 데이터를 추가\n",
        "scores"
      ],
      "metadata": {
        "colab": {
          "base_uri": "https://localhost:8080/"
        },
        "id": "PUlKDYSXW6lq",
        "outputId": "2e99414e-c91c-4e8d-8e8f-4123eb847031"
      },
      "execution_count": 57,
      "outputs": [
        {
          "output_type": "execute_result",
          "data": {
            "text/plain": [
              "[90, 50, 40, 30, 100]"
            ]
          },
          "metadata": {},
          "execution_count": 57
        }
      ]
    },
    {
      "cell_type": "code",
      "source": [
        "# pop() - 리스트에서 데이터 삭제"
      ],
      "metadata": {
        "id": "KqR2yrb8XZ_7"
      },
      "execution_count": null,
      "outputs": []
    }
  ]
}